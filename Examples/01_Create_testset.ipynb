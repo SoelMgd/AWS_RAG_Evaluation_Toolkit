{
 "cells": [
  {
   "cell_type": "markdown",
   "metadata": {},
   "source": [
    "# Create your testset\n",
    "\n",
    "If you do not already have a testset for your RAG, this notebook helps you to generate one from your documents using RAGAS.\n",
    "Code is provided to try with either langchain or llama_index document readers.\n",
    "This is beta, feel free to improve it."
   ]
  },
  {
   "cell_type": "code",
   "execution_count": null,
   "metadata": {},
   "outputs": [],
   "source": [
    "import configparser\n",
    "import boto3\n",
    "import s3fs\n",
    "\n",
    "from langchain_community.chat_models import BedrockChat\n",
    "from langchain.embeddings import HuggingFaceEmbeddings\n",
    "\n",
    "from ragas.testset.generator import TestsetGenerator\n",
    "from ragas.testset.evolutions import simple, reasoning, multi_context\n",
    "\n",
    "from Core.testset_cleaning import clean_testset, display_row_info"
   ]
  },
  {
   "cell_type": "code",
   "execution_count": 2,
   "metadata": {},
   "outputs": [],
   "source": [
    "\n",
    "config = configparser.ConfigParser()\n",
    "config.read('../aws_credentials.cfg')\n",
    "\n",
    "aws_access_key_id = config.get('default', 'aws_access_key_id')\n",
    "aws_secret_access_key = config.get('default', 'aws_secret_access_key')\n",
    "region_name = config.get('default', 'region_name')\n",
    "\n",
    "# Session boto3 with credentials\n",
    "session = boto3.Session(\n",
    "    aws_access_key_id=aws_access_key_id,\n",
    "    aws_secret_access_key=aws_secret_access_key,\n",
    "    region_name=region_name\n",
    ")"
   ]
  },
  {
   "cell_type": "code",
   "execution_count": 3,
   "metadata": {},
   "outputs": [],
   "source": [
    "s3 = s3fs.S3FileSystem(key=aws_access_key_id, secret=aws_secret_access_key)\n",
    "s3_bucket_name = \"airliquide-alit-gio-aiops-dev/chaima/indexes_md\""
   ]
  },
  {
   "cell_type": "markdown",
   "metadata": {},
   "source": [
    "# Import your documents \n",
    "\n",
    "You need to import your documents to generate questions with RAGAS.\n",
    "At the moments, here is some code to load your local documents with llama_index or langchain.\n",
    "\n",
    "It should be possible to load documents from your S3 bucket with llama_index S3Reader, feel free to implement it :) "
   ]
  },
  {
   "cell_type": "markdown",
   "metadata": {},
   "source": [
    "- Loading local documents with langchain (exemple with markdown files):"
   ]
  },
  {
   "cell_type": "code",
   "execution_count": null,
   "metadata": {},
   "outputs": [],
   "source": [
    "from langchain_community.document_loaders import DirectoryLoader\n",
    "from langchain_community.document_loaders import UnstructuredMarkdownLoader\n",
    "\n",
    "path = \"cloud-services/docs\" #\"path/to/your/docs\"\n",
    "loader = DirectoryLoader(path=path, recursive=True, glob=\"**/*.md\", loader_cls=UnstructuredMarkdownLoader, show_progress=True)\n",
    "documents = loader.load()\n",
    "\n",
    "for document in documents:\n",
    "    document.metadata['filename'] = document.metadata['source']\n",
    "    \n",
    "print(len(documents))"
   ]
  },
  {
   "cell_type": "markdown",
   "metadata": {},
   "source": [
    "- Loading local documents with llama_index:"
   ]
  },
  {
   "cell_type": "code",
   "execution_count": null,
   "metadata": {},
   "outputs": [],
   "source": [
    "from llama_index.core import  SimpleDirectoryReader\n",
    "\n",
    "required_exts = [\".md\"]\n",
    "path = \"cloud-services/docs\" #\"path/to/your/docs\" #\"pdf_md\" #\"cloud-services/docs\"\n",
    "reader = SimpleDirectoryReader(\n",
    "    input_dir=path,\n",
    "    required_exts=required_exts,\n",
    "    recursive=True,\n",
    ")\n",
    "documents = reader.load_data()\n",
    "len(documents)"
   ]
  },
  {
   "cell_type": "markdown",
   "metadata": {},
   "source": [
    "Loading LLM on AWS BedrockChat for RAGAS"
   ]
  },
  {
   "cell_type": "code",
   "execution_count": 15,
   "metadata": {},
   "outputs": [],
   "source": [
    "from langchain_community.chat_models import BedrockChat\n",
    "from langchain.embeddings import HuggingFaceEmbeddings\n",
    "\n",
    "# Defining Bedrock client for question generation\n",
    "bedrock_client = session.client(\n",
    "    service_name='bedrock-runtime',\n",
    "    region_name=region_name,\n",
    "    endpoint_url=f\"https://bedrock-runtime.{region_name}.amazonaws.com\"\n",
    ")\n",
    "\n",
    "# LLM model for generation\n",
    "config_generator = {\n",
    "    \"model_id\": \"mistral.mistral-large-2402-v1:0\",  \n",
    "    \"model_kwargs\": {\"temperature\": 0.4},\n",
    "}\n",
    "\n",
    "# Embedding model\n",
    "bedrock_generator_model = BedrockChat(\n",
    "    client=bedrock_client,  \n",
    "    model_id=config_generator[\"model_id\"],\n",
    "    model_kwargs=config_generator[\"model_kwargs\"],\n",
    ")\n",
    "\n",
    "# Initialisation des embeddings\n",
    "bedrock_embeddings = HuggingFaceEmbeddings(model_name=\"BAAI/bge-small-en-v1.5\")"
   ]
  },
  {
   "cell_type": "markdown",
   "metadata": {},
   "source": [
    "Generate questions and answers with RAGAS"
   ]
  },
  {
   "cell_type": "code",
   "execution_count": 16,
   "metadata": {},
   "outputs": [],
   "source": [
    "from ragas.testset.generator import TestsetGenerator\n",
    "from ragas.testset.evolutions import simple, reasoning, multi_context\n",
    "\n",
    "generator = TestsetGenerator.from_langchain( #or fraom_llama_index\n",
    "    generator_llm=bedrock_generator_model,\n",
    "    critic_llm=bedrock_generator_model,\n",
    "    embeddings=bedrock_embeddings,\n",
    ")"
   ]
  },
  {
   "cell_type": "code",
   "execution_count": null,
   "metadata": {},
   "outputs": [],
   "source": [
    "\n",
    "\n",
    "testset = generator.generate_with_langchain_docs( #or generate_with_llama_index_docs\n",
    "    documents,\n",
    "    test_size=3,\n",
    "    distributions={simple: 0.5, reasoning: 0.25, multi_context: 0.25},\n",
    ")"
   ]
  },
  {
   "cell_type": "markdown",
   "metadata": {},
   "source": [
    "## Cleaning the testset \n",
    "- Sometimes questions are badly generated and start with 'Based on the context: here is a question...' this function help to clean a bit these prefixes\n",
    "- It also highlight unanswerable questions when the answer contains 'the context provided does not allow to answer' with the 'not legit' column"
   ]
  },
  {
   "cell_type": "code",
   "execution_count": null,
   "metadata": {},
   "outputs": [],
   "source": [
    "testset_df = testset.to_pandas()\n",
    "\n",
    "# Cleaning the testset\n",
    "testset_df = clean_testset(testset_df)\n",
    "\n",
    "# Selecting answerable questions\n",
    "testset_df = testset_df[testset_df['not legit'] == False]\n",
    "\n",
    "# Keeping interesting columns only\n",
    "testset_df = testset_df[['question', 'contexts', 'ground_truth', 'metadata', 'evolution_type']]\n",
    "\n",
    "testset_df.head()"
   ]
  },
  {
   "cell_type": "markdown",
   "metadata": {},
   "source": [
    "You can check the questions in the testset in details with display_row_info().\n",
    "It can be usefull to check irrelevant questions you want to remove from the testset"
   ]
  },
  {
   "cell_type": "code",
   "execution_count": null,
   "metadata": {},
   "outputs": [],
   "source": [
    "# Print question/context/Ground_truth for a specific question number\n",
    "display_row_info(testset_df, 5)"
   ]
  },
  {
   "cell_type": "code",
   "execution_count": null,
   "metadata": {},
   "outputs": [],
   "source": [
    "# Remove irrelevant questions identified\n",
    "to_drop = []\n",
    "\n",
    "testset_df = testset_df.drop(index=to_drop)\n",
    "print(\"Number of questions:\", len(testset_df))\n",
    "print(testset_df['evolution_type'].value_counts())"
   ]
  },
  {
   "cell_type": "markdown",
   "metadata": {},
   "source": [
    "Renaming columns for easier understanding and saving for notebook 2"
   ]
  },
  {
   "cell_type": "code",
   "execution_count": null,
   "metadata": {},
   "outputs": [],
   "source": [
    "testset_df = testset_df.reset_index()\n",
    "testset_df = testset_df.rename(columns={'metadata':'RAGAS_source', 'contexts':'RAGAS_context'})\n",
    "\n",
    "testset_df.to_csv('Testsets/testset1.csv')"
   ]
  }
 ],
 "metadata": {
  "kernelspec": {
   "display_name": "prod_venv",
   "language": "python",
   "name": "python3"
  },
  "language_info": {
   "codemirror_mode": {
    "name": "ipython",
    "version": 3
   },
   "file_extension": ".py",
   "mimetype": "text/x-python",
   "name": "python",
   "nbconvert_exporter": "python",
   "pygments_lexer": "ipython3",
   "version": "3.10.11"
  }
 },
 "nbformat": 4,
 "nbformat_minor": 2
}
